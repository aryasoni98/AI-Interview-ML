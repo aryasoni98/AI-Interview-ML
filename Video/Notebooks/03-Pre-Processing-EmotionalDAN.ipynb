{
 "cells": [
  {
   "cell_type": "markdown",
   "metadata": {
    "ExecuteTime": {
     "end_time": "2019-02-12T22:17:19.603440Z",
     "start_time": "2019-02-12T22:17:19.523397Z"
    }
   },
   "source": [
    "<h1><center> Facial Emotion Recognition - Pre-processing with EmotionalDAN</center></h1>\n",
    "<center> A project for the French Employment Agency </center>\n",
    "<center> Telecom ParisTech 2018-2019 </center>"
   ]
  },
  {
   "cell_type": "markdown",
   "metadata": {},
   "source": [
    "# I. Context"
   ]
  },
  {
   "cell_type": "markdown",
   "metadata": {},
   "source": [
    "The aim of this notebook is to explore facial emotion recognition techniques from a live webcam video stream. \n",
    "\n",
    "The data set used for training is the Kaggle FER2013 emotion recognition data set : https://www.kaggle.com/c/challenges-in-representation-learning-facial-expression-recognition-challenge/data\n",
    "\n",
    "The models explored include :\n",
    "- Manual filters \n",
    "- Deep Learning Architectures\n",
    "- DenseNet Inspired Architectures\n",
    "\n",
    "This model will be combined with voice emotion recongition as well as psychological traits extracted from text inputs, and should provide a benchmark and a deep analysis of both verbal and non-verbal insights for candidates seeking for a job and their performance during an interview."
   ]
  },
  {
   "cell_type": "markdown",
   "metadata": {},
   "source": [
    "# II. General imports"
   ]
  },
  {
   "cell_type": "markdown",
   "metadata": {},
   "source": [
    "Versions used :"
   ]
  },
  {
   "cell_type": "raw",
   "metadata": {},
   "source": [
    "Python : 3.6.5\n",
    "Tensorflow : 1.10.1\n",
    "Keras : 2.2.2\n",
    "Numpy : 1.15.4\n",
    "OpenCV : 4.0.0"
   ]
  },
  {
   "cell_type": "code",
   "execution_count": 1,
   "metadata": {
    "ExecuteTime": {
     "end_time": "2019-03-06T07:44:28.399172Z",
     "start_time": "2019-03-06T07:44:19.771919Z"
    }
   },
   "outputs": [
    {
     "name": "stderr",
     "output_type": "stream",
     "text": [
      "/anaconda3/lib/python3.6/site-packages/h5py/__init__.py:36: FutureWarning: Conversion of the second argument of issubdtype from `float` to `np.floating` is deprecated. In future, it will be treated as `np.float64 == np.dtype(float).type`.\n",
      "  from ._conv import register_converters as _register_converters\n",
      "Using TensorFlow backend.\n",
      "/anaconda3/lib/python3.6/site-packages/requests/__init__.py:80: RequestsDependencyWarning: urllib3 (1.21.1) or chardet (2.3.0) doesn't match a supported version!\n",
      "  RequestsDependencyWarning)\n"
     ]
    }
   ],
   "source": [
    "### General imports ###\n",
    "import numpy as np\n",
    "import pandas as pd\n",
    "import matplotlib.pyplot as plt\n",
    "from time import time\n",
    "from time import sleep\n",
    "import re\n",
    "import os\n",
    "import argparse\n",
    "from collections import OrderedDict\n",
    "import matplotlib.animation as animation\n",
    "\n",
    "### Image processing ###\n",
    "from scipy.ndimage import zoom\n",
    "from scipy.spatial import distance\n",
    "import imutils\n",
    "from scipy import ndimage\n",
    "import cv2\n",
    "import dlib\n",
    "from __future__ import division\n",
    "from imutils import face_utils\n",
    "\n",
    "### CNN models ###\n",
    "import keras\n",
    "from keras.preprocessing.image import ImageDataGenerator, array_to_img, img_to_array, load_img\n",
    "from keras.callbacks import TensorBoard\n",
    "from keras.models import Sequential\n",
    "from keras.layers.core import Dense, Dropout, Activation, Flatten\n",
    "from keras.layers.convolutional import Conv2D, MaxPooling2D, SeparableConv2D\n",
    "from keras.utils import np_utils\n",
    "from keras.regularizers import l2#, activity_l2\n",
    "from keras.optimizers import SGD, RMSprop\n",
    "from keras.utils import to_categorical\n",
    "from keras.layers.normalization import BatchNormalization\n",
    "from keras import models\n",
    "from keras.utils.vis_utils import plot_model\n",
    "from keras.layers import Input, GlobalAveragePooling2D\n",
    "from keras.models import Model\n",
    "from tensorflow.keras import layers\n",
    "\n",
    "### Build SVM models ###\n",
    "from sklearn.preprocessing import OneHotEncoder\n",
    "from sklearn.model_selection import train_test_split\n",
    "from sklearn.metrics import accuracy_score\n",
    "from sklearn import svm\n",
    "\n",
    "### Same trained models ###\n",
    "import h5py\n",
    "from keras.models import model_from_json\n",
    "import pickle"
   ]
  },
  {
   "cell_type": "markdown",
   "metadata": {},
   "source": [
    "# III. Import datas"
   ]
  },
  {
   "cell_type": "code",
   "execution_count": 2,
   "metadata": {
    "ExecuteTime": {
     "end_time": "2019-03-06T07:44:28.408712Z",
     "start_time": "2019-03-06T07:44:28.403615Z"
    }
   },
   "outputs": [],
   "source": [
    "path = '/Users/maelfabien/filrouge_pole_emploi/Video/'\n",
    "local_path = '/Users/maelfabien/Desktop/LocalDB/Videos/'"
   ]
  },
  {
   "cell_type": "code",
   "execution_count": 3,
   "metadata": {
    "ExecuteTime": {
     "end_time": "2019-03-06T07:45:19.317829Z",
     "start_time": "2019-03-06T07:44:28.416302Z"
    },
    "scrolled": true
   },
   "outputs": [],
   "source": [
    "pd.options.mode.chained_assignment = None  # default='warn'  #to suppress SettingWithCopyWarning\n",
    "\n",
    "#Reading the dataset\n",
    "dataset = pd.read_csv(local_path + 'fer2013.csv')\n",
    "\n",
    "#Obtaining train data where usage is \"Training\"\n",
    "train = dataset[dataset[\"Usage\"] == \"Training\"]\n",
    "\n",
    "#Obtaining test data where usage is \"PublicTest\"\n",
    "test = dataset[dataset[\"Usage\"] == \"PublicTest\"]\n",
    "\n",
    "#Converting \" \" separated pixel values to list\n",
    "train['pixels'] = train['pixels'].apply(lambda image_px : np.fromstring(image_px, sep = ' '))\n",
    "test['pixels'] = test['pixels'].apply(lambda image_px : np.fromstring(image_px, sep = ' '))"
   ]
  },
  {
   "cell_type": "code",
   "execution_count": 4,
   "metadata": {
    "ExecuteTime": {
     "end_time": "2019-03-06T07:45:19.364177Z",
     "start_time": "2019-03-06T07:45:19.335768Z"
    }
   },
   "outputs": [
    {
     "data": {
      "text/html": [
       "<div>\n",
       "<style scoped>\n",
       "    .dataframe tbody tr th:only-of-type {\n",
       "        vertical-align: middle;\n",
       "    }\n",
       "\n",
       "    .dataframe tbody tr th {\n",
       "        vertical-align: top;\n",
       "    }\n",
       "\n",
       "    .dataframe thead th {\n",
       "        text-align: right;\n",
       "    }\n",
       "</style>\n",
       "<table border=\"1\" class=\"dataframe\">\n",
       "  <thead>\n",
       "    <tr style=\"text-align: right;\">\n",
       "      <th></th>\n",
       "      <th>emotion</th>\n",
       "      <th>pixels</th>\n",
       "      <th>Usage</th>\n",
       "    </tr>\n",
       "  </thead>\n",
       "  <tbody>\n",
       "    <tr>\n",
       "      <th>0</th>\n",
       "      <td>0</td>\n",
       "      <td>70 80 82 72 58 58 60 63 54 58 60 48 89 115 121...</td>\n",
       "      <td>Training</td>\n",
       "    </tr>\n",
       "    <tr>\n",
       "      <th>1</th>\n",
       "      <td>0</td>\n",
       "      <td>151 150 147 155 148 133 111 140 170 174 182 15...</td>\n",
       "      <td>Training</td>\n",
       "    </tr>\n",
       "    <tr>\n",
       "      <th>2</th>\n",
       "      <td>2</td>\n",
       "      <td>231 212 156 164 174 138 161 173 182 200 106 38...</td>\n",
       "      <td>Training</td>\n",
       "    </tr>\n",
       "    <tr>\n",
       "      <th>3</th>\n",
       "      <td>4</td>\n",
       "      <td>24 32 36 30 32 23 19 20 30 41 21 22 32 34 21 1...</td>\n",
       "      <td>Training</td>\n",
       "    </tr>\n",
       "    <tr>\n",
       "      <th>4</th>\n",
       "      <td>6</td>\n",
       "      <td>4 0 0 0 0 0 0 0 0 0 0 0 3 15 23 28 48 50 58 84...</td>\n",
       "      <td>Training</td>\n",
       "    </tr>\n",
       "  </tbody>\n",
       "</table>\n",
       "</div>"
      ],
      "text/plain": [
       "   emotion                                             pixels     Usage\n",
       "0        0  70 80 82 72 58 58 60 63 54 58 60 48 89 115 121...  Training\n",
       "1        0  151 150 147 155 148 133 111 140 170 174 182 15...  Training\n",
       "2        2  231 212 156 164 174 138 161 173 182 200 106 38...  Training\n",
       "3        4  24 32 36 30 32 23 19 20 30 41 21 22 32 34 21 1...  Training\n",
       "4        6  4 0 0 0 0 0 0 0 0 0 0 0 3 15 23 28 48 50 58 84...  Training"
      ]
     },
     "execution_count": 4,
     "metadata": {},
     "output_type": "execute_result"
    }
   ],
   "source": [
    "dataset.head()"
   ]
  },
  {
   "cell_type": "code",
   "execution_count": 5,
   "metadata": {
    "ExecuteTime": {
     "end_time": "2019-03-06T07:45:19.400868Z",
     "start_time": "2019-03-06T07:45:19.371931Z"
    }
   },
   "outputs": [
    {
     "data": {
      "text/html": [
       "<div>\n",
       "<style scoped>\n",
       "    .dataframe tbody tr th:only-of-type {\n",
       "        vertical-align: middle;\n",
       "    }\n",
       "\n",
       "    .dataframe tbody tr th {\n",
       "        vertical-align: top;\n",
       "    }\n",
       "\n",
       "    .dataframe thead th {\n",
       "        text-align: right;\n",
       "    }\n",
       "</style>\n",
       "<table border=\"1\" class=\"dataframe\">\n",
       "  <thead>\n",
       "    <tr style=\"text-align: right;\">\n",
       "      <th></th>\n",
       "      <th>emotion</th>\n",
       "      <th>pixels</th>\n",
       "      <th>Usage</th>\n",
       "    </tr>\n",
       "  </thead>\n",
       "  <tbody>\n",
       "    <tr>\n",
       "      <th>299</th>\n",
       "      <td>1</td>\n",
       "      <td>126 126 129 120 110 168 174 172 173 174 170 15...</td>\n",
       "      <td>Training</td>\n",
       "    </tr>\n",
       "    <tr>\n",
       "      <th>388</th>\n",
       "      <td>1</td>\n",
       "      <td>89 55 24 40 43 48 53 55 59 41 33 31 22 32 42 4...</td>\n",
       "      <td>Training</td>\n",
       "    </tr>\n",
       "    <tr>\n",
       "      <th>416</th>\n",
       "      <td>1</td>\n",
       "      <td>204 195 181 131 50 50 57 56 66 98 138 161 173 ...</td>\n",
       "      <td>Training</td>\n",
       "    </tr>\n",
       "    <tr>\n",
       "      <th>473</th>\n",
       "      <td>1</td>\n",
       "      <td>14 11 13 12 41 95 113 112 111 122 132 137 142 ...</td>\n",
       "      <td>Training</td>\n",
       "    </tr>\n",
       "    <tr>\n",
       "      <th>533</th>\n",
       "      <td>1</td>\n",
       "      <td>18 25 49 75 89 97 100 100 101 103 105 107 107 ...</td>\n",
       "      <td>Training</td>\n",
       "    </tr>\n",
       "  </tbody>\n",
       "</table>\n",
       "</div>"
      ],
      "text/plain": [
       "     emotion                                             pixels     Usage\n",
       "299        1  126 126 129 120 110 168 174 172 173 174 170 15...  Training\n",
       "388        1  89 55 24 40 43 48 53 55 59 41 33 31 22 32 42 4...  Training\n",
       "416        1  204 195 181 131 50 50 57 56 66 98 138 161 173 ...  Training\n",
       "473        1  14 11 13 12 41 95 113 112 111 122 132 137 142 ...  Training\n",
       "533        1  18 25 49 75 89 97 100 100 101 103 105 107 107 ...  Training"
      ]
     },
     "execution_count": 5,
     "metadata": {},
     "output_type": "execute_result"
    }
   ],
   "source": [
    "dataset[dataset['emotion'] == 1].head()"
   ]
  },
  {
   "cell_type": "code",
   "execution_count": 6,
   "metadata": {
    "ExecuteTime": {
     "end_time": "2019-03-06T07:45:20.102014Z",
     "start_time": "2019-03-06T07:45:19.406868Z"
    }
   },
   "outputs": [
    {
     "data": {
      "image/png": "[encoded data removed]",
      "text/plain": [
       "<Figure size 864x432 with 1 Axes>"
      ]
     },
     "metadata": {},
     "output_type": "display_data"
    }
   ],
   "source": [
    "plt.figure(figsize=(12,6))\n",
    "plt.hist(dataset['emotion'], bins=30)\n",
    "plt.title(\"Distribution of the number of images per emotion\")\n",
    "plt.show()"
   ]
  },
  {
   "cell_type": "code",
   "execution_count": 7,
   "metadata": {
    "ExecuteTime": {
     "end_time": "2019-03-06T07:45:20.120068Z",
     "start_time": "2019-03-06T07:45:20.108576Z"
    }
   },
   "outputs": [
    {
     "data": {
      "text/plain": [
       "(28709, 3)"
      ]
     },
     "execution_count": 7,
     "metadata": {},
     "output_type": "execute_result"
    }
   ],
   "source": [
    "train.shape"
   ]
  },
  {
   "cell_type": "code",
   "execution_count": 8,
   "metadata": {
    "ExecuteTime": {
     "end_time": "2019-03-06T07:45:20.143203Z",
     "start_time": "2019-03-06T07:45:20.132550Z"
    }
   },
   "outputs": [
    {
     "data": {
      "text/plain": [
       "(3589, 3)"
      ]
     },
     "execution_count": 8,
     "metadata": {},
     "output_type": "execute_result"
    }
   ],
   "source": [
    "test.shape"
   ]
  },
  {
   "cell_type": "markdown",
   "metadata": {},
   "source": [
    "# IV. Create the data set"
   ]
  },
  {
   "cell_type": "code",
   "execution_count": 9,
   "metadata": {
    "ExecuteTime": {
     "end_time": "2019-03-06T07:45:20.152641Z",
     "start_time": "2019-03-06T07:45:20.146615Z"
    }
   },
   "outputs": [],
   "source": [
    "shape_x = 48\n",
    "shape_y = 48"
   ]
  },
  {
   "cell_type": "code",
   "execution_count": 10,
   "metadata": {
    "ExecuteTime": {
     "end_time": "2019-03-06T07:45:21.167952Z",
     "start_time": "2019-03-06T07:45:20.173776Z"
    }
   },
   "outputs": [
    {
     "name": "stdout",
     "output_type": "stream",
     "text": [
      "Shape of X_train and y_train is (28709, 48, 48, 1) and (28709, 1) respectively.\n",
      "Shape of X_test and y_test is (3589, 48, 48, 1) and (3589, 1) respectively.\n"
     ]
    }
   ],
   "source": [
    "X_train = train.iloc[:, 1].values\n",
    "y_train = train.iloc[:, 0].values\n",
    "X_test = test.iloc[:, 1].values\n",
    "y_test = test.iloc[:, 0].values\n",
    "\n",
    "#np.vstack stack arrays in sequence vertically (picking element row wise)\n",
    "X_train = np.vstack(X_train)\n",
    "X_test = np.vstack(X_test)\n",
    "\n",
    "#Reshape X_train, y_train,X_test,y_test in desired formats\n",
    "X_train = np.reshape(X_train, (X_train.shape[0],48,48,1))\n",
    "y_train = np.reshape(y_train, (y_train.shape[0],1))\n",
    "X_test = np.reshape(X_test, (X_test.shape[0],48,48,1))\n",
    "y_test = np.reshape(y_test, (y_test.shape[0],1))\n",
    "\n",
    "print(\"Shape of X_train and y_train is \" + str(X_train.shape) +\" and \" + str(y_train.shape) +\" respectively.\")\n",
    "print(\"Shape of X_test and y_test is \" + str(X_test.shape) +\" and \" + str(y_test.shape) +\" respectively.\")"
   ]
  },
  {
   "cell_type": "code",
   "execution_count": 11,
   "metadata": {
    "ExecuteTime": {
     "end_time": "2019-03-06T07:45:21.716077Z",
     "start_time": "2019-03-06T07:45:21.174714Z"
    }
   },
   "outputs": [],
   "source": [
    "# Change to float datatype\n",
    "train_data = X_train.astype('float32')\n",
    "test_data = X_test.astype('float32')\n",
    "\n",
    "# Scale the data to lie between 0 to 1\n",
    "train_data /= 255\n",
    "test_data /= 255\n",
    "\n",
    "# Change the labels from integer to categorical data\n",
    "train_labels_one_hot = to_categorical(y_train)\n",
    "test_labels_one_hot = to_categorical(y_test)"
   ]
  },
  {
   "cell_type": "markdown",
   "metadata": {},
   "source": [
    "# V. Define the number of classes"
   ]
  },
  {
   "cell_type": "code",
   "execution_count": 12,
   "metadata": {
    "ExecuteTime": {
     "end_time": "2019-03-06T07:45:21.743276Z",
     "start_time": "2019-03-06T07:45:21.727145Z"
    }
   },
   "outputs": [
    {
     "name": "stdout",
     "output_type": "stream",
     "text": [
      "Total number of outputs :  7\n",
      "Output classes :  [0 1 2 3 4 5 6]\n"
     ]
    }
   ],
   "source": [
    "# Find the unique numbers from the train labels\n",
    "classes = np.unique(y_train)\n",
    "nClasses = len(classes)\n",
    "print('Total number of outputs : ', nClasses)\n",
    "print('Output classes : ', classes)\n",
    "\n",
    "# Find the shape of input images and create the variable input_shape\n",
    "nRows,nCols,nDims = X_train.shape[1:]\n",
    "input_shape = (nRows, nCols, nDims)"
   ]
  },
  {
   "cell_type": "code",
   "execution_count": 13,
   "metadata": {
    "ExecuteTime": {
     "end_time": "2019-03-06T07:45:21.768160Z",
     "start_time": "2019-03-06T07:45:21.749378Z"
    }
   },
   "outputs": [],
   "source": [
    "#Defining labels \n",
    "def get_label(argument):\n",
    "    labels = {0:'Angry', 1:'Disgust', 2:'Fear', 3:'Happy', 4:'Sad' , 5:'Surprise', 6:'Neutral'}\n",
    "    return(labels.get(argument, \"Invalid emotion\"))"
   ]
  },
  {
   "cell_type": "code",
   "execution_count": 14,
   "metadata": {
    "ExecuteTime": {
     "end_time": "2019-03-06T07:45:22.505305Z",
     "start_time": "2019-03-06T07:45:21.780010Z"
    }
   },
   "outputs": [
    {
     "data": {
      "text/plain": [
       "Text(0.5, 1.0, 'Ground Truth : Surprise')"
      ]
     },
     "execution_count": 14,
     "metadata": {},
     "output_type": "execute_result"
    },
    {
     "data": {
      "image/png": "[encoded data removed]",
      "text/plain": [
       "<Figure size 720x360 with 2 Axes>"
      ]
     },
     "metadata": {},
     "output_type": "display_data"
    }
   ],
   "source": [
    "plt.figure(figsize=[10,5])\n",
    "\n",
    "# Display the first image in training data\n",
    "plt.subplot(121)\n",
    "plt.imshow(np.squeeze(X_train[25,:,:], axis = 2), cmap='gray')\n",
    "plt.title(\"Ground Truth : {}\".format(get_label(int(y_train[0]))))\n",
    "\n",
    "# Display the first image in testing data\n",
    "plt.subplot(122)\n",
    "plt.imshow(np.squeeze(X_test[26,:,:], axis = 2), cmap='gray')\n",
    "plt.title(\"Ground Truth : {}\".format(get_label(int(y_test[1500]))))"
   ]
  },
  {
   "cell_type": "markdown",
   "metadata": {},
   "source": [
    "# VI. Emotional Deep Alignment Networks"
   ]
  },
  {
   "cell_type": "markdown",
   "metadata": {},
   "source": [
    "This is an implementation of the paper : https://arxiv.org/pdf/1810.10529.pdf\n",
    "\n",
    "The main advantage of DAN over the competing\n",
    "face alignment methods comes from an iterative process\n",
    "of adjusting the locations of facial landmarks. The iterations are incorporated into the neural network architecture, as the information about the landmark locations detected in the previous stage (layer) are transferred to the\n",
    "next stages through the use of facial landmark heatmaps.\n",
    "As a result and contrary to the competing methods, DAN\n",
    "can therefore handle entire face images instead of patches\n",
    "which leads to a significant reduction in head pose variance\n",
    "and improves its performance on a landmark recognition\n",
    "task. \n",
    "\n",
    "Even though during training model has only information about emotion label, spatial information about\n",
    "regions containing information relevant to expressed emotions are correctly captured. Face regions around\n",
    "eyes and mouth influence model’s decision the most for all emotion classes. Eyebrow location and strength of\n",
    "activations near nose (e.g Disgust) also show some discriminative information."
   ]
  },
  {
   "cell_type": "code",
   "execution_count": 16,
   "metadata": {
    "ExecuteTime": {
     "end_time": "2019-03-06T07:47:00.624036Z",
     "start_time": "2019-03-06T07:47:00.601287Z"
    }
   },
   "outputs": [],
   "source": [
    "import math\n",
    "\n",
    "from tensorflow.python.eager import context\n",
    "from tensorflow.python.framework import constant_op\n",
    "from tensorflow.python.framework import dtypes\n",
    "from tensorflow.python.framework import ops\n",
    "from tensorflow.python.ops import control_flow_ops\n",
    "from tensorflow.python.ops import math_ops\n",
    "from tensorflow.python.ops import random_ops\n",
    "from tensorflow.python.util.tf_export import tf_export\n",
    "\n",
    "from skimage.transform import resize\n",
    "from skimage import color\n",
    "import tensorflow as tf"
   ]
  },
  {
   "cell_type": "code",
   "execution_count": 21,
   "metadata": {
    "ExecuteTime": {
     "end_time": "2019-03-06T07:47:50.271110Z",
     "start_time": "2019-03-06T07:47:50.266728Z"
    }
   },
   "outputs": [],
   "source": [
    "emotionDict7 = {0: 'Neutral', 1: 'Happiness', 2: 'Sadness',\n",
    "                3: 'Surprise', 4: 'Fear', 5: 'Disgust', 6: 'Anger'}\n",
    "\n",
    "IMGSIZE = 2304"
   ]
  },
  {
   "cell_type": "code",
   "execution_count": 22,
   "metadata": {
    "ExecuteTime": {
     "end_time": "2019-03-06T07:48:30.691469Z",
     "start_time": "2019-03-06T07:48:30.625970Z"
    }
   },
   "outputs": [],
   "source": [
    "def get_gradcam(batch_img, batch_label, modelPath, dan, tf_sess,\n",
    "                img_mask=1, img_size=IMGSIZE, conv_layer='S2_Conv4a', logging=False):\n",
    "    # TODO: fix for batch size > 1\n",
    "\n",
    "    images = tf.placeholder(tf.float32, [None, img_size, img_size, 1])\n",
    "    labels = tf.placeholder(tf.float32, [None, ])\n",
    "\n",
    "    # gradient for partial linearization. We only care about target\n",
    "    # visualization class.\n",
    "    y_c = tf.reduce_sum(tf.multiply(dan['S2_Emotion'], labels), axis=1)\n",
    "\n",
    "    # Get last convolutional layer gradient for generating gradCAM\n",
    "    # visualization\n",
    "    target_conv_layer = dan[conv_layer]\n",
    "    target_conv_layer_grad = tf.gradients(y_c, target_conv_layer)[0]\n",
    "\n",
    "    # Run inference of prediction class\n",
    "    prob, softmax = tf_sess.run([dan['Pred_emotion'], dan['softmax']],\n",
    "                       {dan['InputImage']: batch_img,\n",
    "                        dan['S1_isTrain']: False,\n",
    "                        dan['S2_isTrain']: False})\n",
    "    if logging:\n",
    "        # print(prob)\n",
    "        # print(softmax)\n",
    "        print('Predicted emotion:', emotionDict7[prob[0]])\n",
    "        print('True emotion', emotionDict7[batch_label[0]])\n",
    "        for i in range(len(softmax[0])):\n",
    "            print(emotionDict7[i], softmax[0][i])\n",
    "        \n",
    "\n",
    "    # Do not generate cam if predicted class is not correct\n",
    "    if prob[0] != batch_label[0]:\n",
    "        return []\n",
    "\n",
    "    target_conv_layer_value, target_conv_layer_grad_value = tf_sess.run(\n",
    "        [target_conv_layer, target_conv_layer_grad],\n",
    "        feed_dict={images: batch_img,\n",
    "                   labels: batch_label,\n",
    "                   dan['InputImage']: batch_img,\n",
    "                   dan['S1_isTrain']: False,\n",
    "                   dan['S2_isTrain']: False})\n",
    "\n",
    "    batch_size = len(batch_img)\n",
    "\n",
    "    for i in range(batch_size):\n",
    "\n",
    "        output, grads_val = target_conv_layer_value[i], target_conv_layer_grad_value[i]\n",
    "        weights = np.mean(grads_val, axis=(0, 1))\n",
    "\n",
    "        cam = np.zeros(output.shape[0: 2], dtype=np.float32)\n",
    "        for j, w in enumerate(weights):\n",
    "            cam += w * output[:, :, j]\n",
    "\n",
    "        # Passing through ReLU\n",
    "        cam = np.maximum(cam, 0)\n",
    "        cam = cam / np.max(cam)  # scale 0 to 1.0\n",
    "        cam = resize(cam, (img_size, img_size), preserve_range=True)\n",
    "\n",
    "        return cam"
   ]
  },
  {
   "cell_type": "code",
   "execution_count": 23,
   "metadata": {
    "ExecuteTime": {
     "end_time": "2019-03-06T08:19:47.787445Z",
     "start_time": "2019-03-06T08:19:47.142225Z"
    }
   },
   "outputs": [],
   "source": [
    "def get_heatmap(cam):\n",
    "    \"\"\"Returns heatmap of generated gradcam\"\"\"\n",
    "    cam_heatmap = cv2.applyColorMap(np.uint8(255 * cam), cv2.COLORMAP_JET)\n",
    "    cam_heatmap = cv2.cvtColor(cam_heatmap, cv2.COLOR_BGR2RGB)\n",
    "    return cam_heatmap\n",
    "\n",
    "\n",
    "def overlay_cam(img, cam, alpha, show=True, outFile=None):\n",
    "    if len(cam) > 0:\n",
    "        cam_heatmap = get_heatmap(cam)\n",
    "\n",
    "        img = img.astype(float)\n",
    "        img = img - np.min(img)\n",
    "        img = img / np.max(img)\n",
    "\n",
    "        # Construct RGB version of grey-level image\n",
    "        img_color = np.dstack((img, img, img))\n",
    "\n",
    "        # Convert the input image and color mask to Hue Saturation Value (HSV)\n",
    "        # colorspace\n",
    "        img_hsv = color.rgb2hsv(img_color)\n",
    "        color_mask_hsv = color.rgb2hsv(cam_heatmap)\n",
    "\n",
    "        # Replace the hue and saturation of the original image\n",
    "        # with that of the color mask\n",
    "        img_hsv[..., 0] = color_mask_hsv[..., 0]\n",
    "        img_hsv[..., 1] = color_mask_hsv[..., 1] * alpha\n",
    "\n",
    "        img_masked = color.hsv2rgb(img_hsv)\n",
    "\n",
    "        if show:\n",
    "            fig = plt.figure(figsize=(12, 16))\n",
    "            ax = fig.add_subplot(222)\n",
    "            plt.imshow(img_masked)\n",
    "            ax.axis('off')\n",
    "            ax.set_title('Grad-CAM')\n",
    "\n",
    "            plt.show()\n",
    "\n",
    "            if outFile:\n",
    "                plt.savefig(outFile)\n",
    "\n",
    "        return img_masked\n",
    "\n",
    "\n",
    "def plot_mean_cam(cams):\n",
    "    cams_num = [\n",
    "        c for c in cams if (\n",
    "            not np.isnan(c).any()) and (\n",
    "            len(c) > 0)]\n",
    "    print('Nb of images: {}, non nan: {}'.format(len(cams), len(cams_num)))\n",
    "    if len(cams_num) > 0:\n",
    "        cams_sum = sum(cams_num) / len(cams_num)\n",
    "        cam_heatmap = cv2.applyColorMap(\n",
    "            np.uint8(255 * cams_sum), cv2.COLORMAP_JET)\n",
    "        cam_heatmap = cv2.cvtColor(cam_heatmap, cv2.COLOR_BGR2RGB)\n",
    "        plt.imshow(cam_heatmap)\n",
    "        plt.show()\n",
    "\n",
    "\n",
    "def get_mean_cam(cams):\n",
    "    cams_num = [\n",
    "        c for c in cams if (\n",
    "            not np.isnan(c).any()) and (\n",
    "            len(c) > 0)]\n",
    "#     print('Nb of images: {}, non nan: {}'.format(len(cams), len(cams_num)))\n",
    "    if len(cams_num) > 0:\n",
    "        cams_sum = sum(cams_num) / len(cams_num)\n",
    "        cam_heatmap = cv2.applyColorMap(\n",
    "            np.uint8(255 * cams_sum), cv2.COLORMAP_JET)\n",
    "        cam_heatmap = cv2.cvtColor(cam_heatmap, cv2.COLOR_BGR2RGB)\n",
    "        plt.imshow(cam_heatmap)\n",
    "        return cams_sum\n",
    "\n",
    "\n",
    "def find_closest_image_to_gradcam(emotion_id, gradcams, id_to_img_dict):\n",
    "    mean_gradcam = get_mean_cam(gradcams[emotion_id - 1])\n",
    "    res, res_i = find_closest(gradcams[emotion_id - 1], mean_gradcam)\n",
    "    res_image = np.reshape(id_to_img_dict[emotion_id, res_i], (224, 224))\n",
    "    return res_image, res\n",
    "\n",
    "\n",
    "def visualize(batch_img, batch_label, modelPath, dan, sess, img_mask=1, batch_size=1,\n",
    "              img_size=224, alpha=0.5, conv_layer='S2_Conv4b', vis_type='overlay', outFile=None):\n",
    "    \"\"\"Plot GradCam visualization for given image\"\"\"\n",
    "    cam = get_gradcam(batch_img, batch_label, modelPath, dan,\n",
    "                      sess, img_mask, img_size, conv_layer, logging=True)\n",
    "\n",
    "    # if len(cam) > 0:\n",
    "    #     cam_heatmap = get_heatmap(cam)\n",
    "    # else:\n",
    "    #     return None\n",
    "\n",
    "    if vis_type == 'overlay':\n",
    "        img = batch_img[0]\n",
    "        overlay_cam(img, cam, alpha, show=True, outFile=outFile)\n",
    "\n",
    "\n",
    "def get_most_activated_landmarks(\n",
    "        cam, gt_landmarks, k, radius=3, img_size=224):\n",
    "    \"\"\"function that returns a number of landmarks that\n",
    "    are most activated by gradcam\n",
    "\n",
    "    for each gt landmark, activations in the area of radius r around landmark are summed\n",
    "    (gt_x - r, gt_x + r)\n",
    "    (gt_y - r, gt_y + r)\n",
    "\n",
    "    k results are returned\n",
    "    \"\"\"\n",
    "    landmark_activations = {}\n",
    "\n",
    "    x_s = gt_landmarks[0:][::2]\n",
    "    y_s = gt_landmarks[1:][::2]\n",
    "\n",
    "    for x_, y_ in zip(x_s, y_s):\n",
    "        x = min(int(x_), img_size - 1)\n",
    "        y = min(int(y_), img_size - 1)\n",
    "\n",
    "        landmark_activations[x, y] = 0\n",
    "        # Add activations from around landmarks\n",
    "        for r in range(radius):\n",
    "            for s in range(radius):\n",
    "                try:\n",
    "                    landmark_activations[x, y] += cam[y + s][x + r]\n",
    "                except IndexError:\n",
    "                    print('')\n",
    "    inverse = [(value, key) for key, value in landmark_activations.items()]\n",
    "    sorted_inverse = sorted(inverse)[-k:]\n",
    "    activated_landmarks = [b for _, b in sorted_inverse]\n",
    "    return activated_landmarks\n"
   ]
  },
  {
   "cell_type": "code",
   "execution_count": 19,
   "metadata": {
    "ExecuteTime": {
     "end_time": "2019-03-06T07:47:48.366101Z",
     "start_time": "2019-03-06T07:47:48.361758Z"
    }
   },
   "outputs": [],
   "source": [
    "def e_distance(a, b):\n",
    "    return np.linalg.norm(a - b)"
   ]
  },
  {
   "cell_type": "code",
   "execution_count": 20,
   "metadata": {
    "ExecuteTime": {
     "end_time": "2019-03-06T07:47:48.748527Z",
     "start_time": "2019-03-06T07:47:48.739148Z"
    }
   },
   "outputs": [],
   "source": [
    "def find_closest(matrix_list, target_matrix):\n",
    "    min_distance = 999999\n",
    "    closest_matrix = None\n",
    "    closest_id = None\n",
    "    for i, m in enumerate(matrix_list):\n",
    "        if len(m) > 0:\n",
    "            dist = e_distance(m, target_matrix)\n",
    "            if dist < min_distance:\n",
    "                closest_matrix = m\n",
    "                closest_id = i\n",
    "                min_distance = dist\n",
    "    return closest_matrix, closest_id"
   ]
  },
  {
   "cell_type": "markdown",
   "metadata": {
    "ExecuteTime": {
     "end_time": "2019-03-05T14:32:39.802969Z",
     "start_time": "2019-03-05T14:32:39.797214Z"
    }
   },
   "source": [
    "# VII. Save the dataframes"
   ]
  },
  {
   "cell_type": "code",
   "execution_count": 22,
   "metadata": {
    "ExecuteTime": {
     "end_time": "2019-03-05T14:41:45.625325Z",
     "start_time": "2019-03-05T14:41:43.527770Z"
    }
   },
   "outputs": [],
   "source": [
    "np.save(local_path + 'X_train_augmented', train_data)"
   ]
  },
  {
   "cell_type": "code",
   "execution_count": 19,
   "metadata": {
    "ExecuteTime": {
     "end_time": "2019-03-05T14:41:39.801541Z",
     "start_time": "2019-03-05T14:41:39.541607Z"
    }
   },
   "outputs": [],
   "source": [
    "np.save(local_path + 'X_test_augmented', test_data)"
   ]
  },
  {
   "cell_type": "code",
   "execution_count": 20,
   "metadata": {
    "ExecuteTime": {
     "end_time": "2019-03-05T14:41:40.486614Z",
     "start_time": "2019-03-05T14:41:40.475886Z"
    }
   },
   "outputs": [],
   "source": [
    "np.save(local_path + 'y_train_augmented', train_labels_one_hot)"
   ]
  },
  {
   "cell_type": "code",
   "execution_count": 21,
   "metadata": {
    "ExecuteTime": {
     "end_time": "2019-03-05T14:41:41.305668Z",
     "start_time": "2019-03-05T14:41:41.300922Z"
    }
   },
   "outputs": [],
   "source": [
    "np.save(local_path + 'y_test_augmented', test_labels_one_hot)"
   ]
  },
  {
   "cell_type": "markdown",
   "metadata": {},
   "source": [
    "# VIII. Sources"
   ]
  },
  {
   "cell_type": "markdown",
   "metadata": {},
   "source": [
    "- Visualization : https://github.com/JostineHo/mememoji/blob/master/data_visualization.ipynb\n",
    "- State of the art Architecture : https://github.com/amineHorseman/facial-expression-recognition-using-cnn\n",
    "- Eyes Tracking : https://www.pyimagesearch.com/2017/04/24/eye-blink-detection-opencv-python-dlib/\n",
    "- Face Alignment : https://www.pyimagesearch.com/2017/05/22/face-alignment-with-opencv-and-python/\n",
    "- C.Pramerdorfer,  and  M.Kampel.Facial  Expression  Recognition  using  Con-volutional  Neural  Networks:  State  of  the  Art.  Computer  Vision  Lab,  TU  Wien. https://arxiv.org/pdf/1612.02903.pdf\n",
    "- A Brief Review of Facial Emotion Recognition Based\n",
    "on Visual Information : https://www.mdpi.com/1424-8220/18/2/401/pdf\n",
    "- Going deeper in facial expression recognition using deep neural networks : https://ieeexplore.ieee.org/document/7477450\n",
    "- Emotional Deep Alignment Network paper : https://arxiv.org/abs/1810.10529\n",
    "- Emotional Deep Alignment Network github : https://github.com/IvonaTau/emotionaldan"
   ]
  }
 ],
 "metadata": {
  "kernelspec": {
   "display_name": "Python 3",
   "language": "python",
   "name": "python3"
  },
  "language_info": {
   "codemirror_mode": {
    "name": "ipython",
    "version": 3
   },
   "file_extension": ".py",
   "mimetype": "text/x-python",
   "name": "python",
   "nbconvert_exporter": "python",
   "pygments_lexer": "ipython3",
   "version": "3.6.5"
  },
  "latex_envs": {
   "LaTeX_envs_menu_present": true,
   "autoclose": false,
   "autocomplete": true,
   "bibliofile": "biblio.bib",
   "cite_by": "apalike",
   "current_citInitial": 1,
   "eqLabelWithNumbers": true,
   "eqNumInitial": 1,
   "hotkeys": {
    "equation": "Ctrl-E",
    "itemize": "Ctrl-I"
   },
   "labels_anchors": false,
   "latex_user_defs": false,
   "report_style_numbering": false,
   "user_envs_cfg": false
  },
  "toc": {
   "base_numbering": 1,
   "nav_menu": {},
   "number_sections": true,
   "sideBar": true,
   "skip_h1_title": false,
   "title_cell": "Table of Contents",
   "title_sidebar": "Contents",
   "toc_cell": false,
   "toc_position": {},
   "toc_section_display": true,
   "toc_window_display": false
  }
 },
 "nbformat": 4,
 "nbformat_minor": 2
}
